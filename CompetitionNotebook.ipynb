{
 "cells": [
  {
   "cell_type": "markdown",
   "metadata": {},
   "source": [
    "# Analysis of sequencing data from competition between wildtype virus and mutant virus\n",
    "\n",
    "Orr Ashenberg, 24 August 2016\n",
    "\n",
    "To run the commands in this notebook, please first install <a href='https://github.com/jbloom/mapmuts'>```mapmuts```</a>  and <a href='https://github.com/jbloomlab/dms_tools'>```dms_tools```</a>, and then verify that they can be run in the directory in which you placed this ipython notebook.\n",
    "\n",
    "\n",
    "Here, we take sequencing data from each viral competition experiment and calculate the frequency of the wildtype versus the mutant virus. We tested amino-acid mutations and synonymous codon mutations. There are 4 experimental conditions for the amino-acid mutation and 4 for the synonymous mutation (add syn to the experimental condition name below): \n",
    " - CMU: 10 hrs post-infection, collect cellular RNA from MDCK-SIAT1 cells \n",
    " - CXU: 10 hrs post-infection, collect cellular RNA from MDCK-SIAT1-MxA cells  \n",
    " - CMS: 54 hrs post-infection, collect cellular RNA from MDCK-SIAT1 cells  \n",
    " - CXS: 54 hrs post-infection, collect cellular RNA from MDCK-SIAT1-MxA cells  \n",
    " \n",
    " ---"
   ]
  },
  {
   "cell_type": "markdown",
   "metadata": {},
   "source": [
    "## Table of contents\n",
    "\n",
    "### Load required modules and raw data\n",
    "<a href='#prelim'>Preliminary set-up and load required modules</a>\n",
    "\n",
    "<a href='#download_SRA'>Download sequencing data from the SRA</a>\n",
    "\n",
    "### Calculate mutant and wildtype codon counts at NP site 51\n",
    "<a href='#align_reads'>Align paired-end reads to NP and count mutations</a>\n",
    "\n",
    "<a href='#frequency'>Calculate mutation frequency at NP site 51</a>\n",
    "\n",
    "### Plot competition-experiment results\n",
    "<a href='#plot'>Plot relative NP mutation frequencies over time</a>\n",
    "\n",
    "---"
   ]
  },
  {
   "cell_type": "markdown",
   "metadata": {},
   "source": [
    "## Load required modules and raw data"
   ]
  },
  {
   "cell_type": "markdown",
   "metadata": {},
   "source": [
    "<a id='prelim'></a>\n",
    "**Preliminary set-up and load required modules:**"
   ]
  },
  {
   "cell_type": "code",
   "execution_count": 1,
   "metadata": {
    "collapsed": false
   },
   "outputs": [
    {
     "name": "stdout",
     "output_type": "stream",
     "text": [
      "Using matplotlib version 1.5.0\n"
     ]
    }
   ],
   "source": [
    "import os\n",
    "basedir = os.getcwd()\n",
    "if not os.path.isdir('notebook_figures'):\n",
    "    !mkdir notebook_figures\n",
    "if not os.path.isdir('FASTQ_files'):\n",
    "    !mkdir FASTQ_files\n",
    "figdir = '%s/notebook_figures' % basedir\n",
    "\n",
    "import matplotlib\n",
    "print \"Using matplotlib version %s\" % matplotlib.__version__\n",
    "matplotlib.use(\"Pdf\")\n",
    "import numpy as np\n",
    "import matplotlib.pyplot as plt\n",
    "import scipy.stats\n",
    "import Bio.SeqIO\n",
    "from operator import itemgetter\n",
    "import os\n",
    "import subprocess\n",
    "import math\n",
    "import glob\n",
    "import pandas as pd\n",
    "pd.options.display.float_format = '{:,.3f}'.format # Limit output to 3 decimal places.\n",
    "import dms_tools\n",
    "import dms_tools.file_io\n",
    "import dms_tools.utils\n",
    "from runscriptfunctions import * # functions to facilitate running parallel jobs on the Fred Hutch scientific computing cluster using `slurm`"
   ]
  },
  {
   "cell_type": "markdown",
   "metadata": {},
   "source": [
    "Specifications for running scripts. Nothing here needs to be changed by the user."
   ]
  },
  {
   "cell_type": "code",
   "execution_count": 2,
   "metadata": {
    "collapsed": false
   },
   "outputs": [
    {
     "ename": "IOError",
     "evalue": "[Errno 2] No such file or directory: '/fh/fast/bloom_j/grp/oashenbe/2016_NP_MxA_paper/input/Aichi68-NP_amplicon.fa'",
     "output_type": "error",
     "traceback": [
      "\u001b[1;31m---------------------------------------------------------------------------\u001b[0m",
      "\u001b[1;31mIOError\u001b[0m                                   Traceback (most recent call last)",
      "\u001b[1;32m<ipython-input-2-7ac5247fcead>\u001b[0m in \u001b[0;36m<module>\u001b[1;34m()\u001b[0m\n\u001b[0;32m      7\u001b[0m \u001b[1;31m# Specify reference sequence to map reads to, numbering must follow what is specified by alignspecs\u001b[0m\u001b[1;33m\u001b[0m\u001b[1;33m\u001b[0m\u001b[0m\n\u001b[0;32m      8\u001b[0m \u001b[0mrefseq\u001b[0m \u001b[1;33m=\u001b[0m \u001b[1;34m'%s/input/Aichi68-NP_amplicon.fa'\u001b[0m \u001b[1;33m%\u001b[0m \u001b[0mbasedir\u001b[0m\u001b[1;33m\u001b[0m\u001b[0m\n\u001b[1;32m----> 9\u001b[1;33m \u001b[0mrefseq\u001b[0m \u001b[1;33m=\u001b[0m \u001b[1;33m[\u001b[0m\u001b[0mseq\u001b[0m \u001b[1;32mfor\u001b[0m \u001b[0mseq\u001b[0m \u001b[1;32min\u001b[0m \u001b[0mBio\u001b[0m\u001b[1;33m.\u001b[0m\u001b[0mSeqIO\u001b[0m\u001b[1;33m.\u001b[0m\u001b[0mparse\u001b[0m\u001b[1;33m(\u001b[0m\u001b[0mopen\u001b[0m\u001b[1;33m(\u001b[0m\u001b[0mrefseq\u001b[0m\u001b[1;33m)\u001b[0m\u001b[1;33m,\u001b[0m \u001b[1;34m'fasta'\u001b[0m\u001b[1;33m)\u001b[0m\u001b[1;33m]\u001b[0m\u001b[1;33m\u001b[0m\u001b[0m\n\u001b[0m\u001b[0;32m     10\u001b[0m \u001b[0mrefseq\u001b[0m \u001b[1;33m=\u001b[0m \u001b[0mstr\u001b[0m\u001b[1;33m(\u001b[0m\u001b[0mrefseq\u001b[0m\u001b[1;33m[\u001b[0m\u001b[1;36m0\u001b[0m\u001b[1;33m]\u001b[0m\u001b[1;33m.\u001b[0m\u001b[0mseq\u001b[0m\u001b[1;33m)\u001b[0m\u001b[1;33m.\u001b[0m\u001b[0mupper\u001b[0m\u001b[1;33m(\u001b[0m\u001b[1;33m)\u001b[0m\u001b[1;33m\u001b[0m\u001b[0m\n\u001b[0;32m     11\u001b[0m \u001b[0mrefseq\u001b[0m \u001b[1;33m=\u001b[0m \u001b[0mrefseq\u001b[0m\u001b[1;33m[\u001b[0m\u001b[1;36m61\u001b[0m\u001b[1;33m:\u001b[0m\u001b[1;36m1558\u001b[0m\u001b[1;33m]\u001b[0m   \u001b[1;31m# get full Aichi/68-NP coding sequence from start to stop codon\u001b[0m\u001b[1;33m\u001b[0m\u001b[0m\n",
      "\u001b[1;31mIOError\u001b[0m: [Errno 2] No such file or directory: '/fh/fast/bloom_j/grp/oashenbe/2016_NP_MxA_paper/input/Aichi68-NP_amplicon.fa'"
     ]
    }
   ],
   "source": [
    "# Where FASTQ files from SRA will be downloaded\n",
    "FASTQdir = '%s/FASTQ_files' % basedir\n",
    "\n",
    "# Specify the biological replicates and library amplicons that were sequenced.\n",
    "replicates = ['1', '2']\n",
    "\n",
    "# Specify reference sequence to map reads to, numbering must follow what is specified by alignspecs\n",
    "refseq = '%s/input/Aichi68-NP_amplicon.fa' % basedir\n",
    "refseq = [seq for seq in Bio.SeqIO.parse(open(refseq), 'fasta')]\n",
    "refseq = str(refseq[0].seq).upper()\n",
    "refseq = refseq[61:1558]   # get full Aichi/68-NP coding sequence from start to stop codon\n",
    "\n",
    "# Specify the experiments that test viral growth early or late in infection, and in MDCK-SIAT1 or MDCK-SIAT1-MxA cells.\n",
    "# The experiments are further specified by whether they are competitions between nonsynonymous or synonynous mutants.\n",
    "experiments_nonsyn = ['CMU', 'CXU', 'CMS', 'CXS']\n",
    "experiments_syn = ['CMUsyn', 'CXUsyn', 'CMSsyn', 'CXSsyn']\n",
    "experiments = experiments_nonsyn + experiments_syn\n",
    "\n",
    "# Specify which NP mutations were tested in the viral competition experiment.\n",
    "# List of tuples (NP site, MxA-sensitive aa, MxA-resistant aa, Bloom lab plasmid number) or (NP site, wt codon, synonymous codon, Bloom lab plasmid number)\n",
    "tested_muts = [('51', 'N', 'D', 1409), ('51', 'GAT', 'GAC', 1500)] \n",
    "\n",
    "# Specify R1 and R2 read lengths and gene range of each NP amplicon, for aligning reads to amplicons. \n",
    "# The alignspecs are split into whether they are used for nonsynonymous, amino-acid mutations, or for synonymous, codon mutations.\n",
    "alignspecs_nonsyn = [(113, 186, 1, 1, 1409)]\n",
    "alignspecs_syn = [(113, 186, 1, 1, 1500)]\n",
    "\n",
    "# List of amplicons using Bloom lab plasmid numbering\n",
    "# The amplicons are split into whether they cover nonsynonymous amino-acid mutations, or synonymous codon mutations\n",
    "amplicons_nonsyn = [amplicon for (a, b, c, d, amplicon) in alignspecs_nonsyn]   \n",
    "amplicons_syn = [amplicon for (a, b, c, d, amplicon) in alignspecs_syn]\n",
    "\n",
    "# Link Bloom lab plasmid amplicon numbering to Aichi/68 NP site numbering\n",
    "amplicon_to_site = dict([ (amplicon, site) for (site, y, z, amplicon) in tested_muts])   \n",
    "\n",
    "# Specify quality parameters (Q score thresholds) for deciding whether to use a given R1 and R2 read pair, and for how many nt mutations to allow while aligning amplicons\n",
    "minq = 15\n",
    "maxlowqfrac = 0.075\n",
    "maxmuts = 2 \n",
    "\n",
    "# Specify whether FASTQ sequence files are gzipped \n",
    "gzipped = False"
   ]
  },
  {
   "cell_type": "markdown",
   "metadata": {},
   "source": [
    "<a id='download_SRA'></a>\n",
    "**Download sequencing data from the SRA:**"
   ]
  },
  {
   "cell_type": "code",
   "execution_count": null,
   "metadata": {
    "collapsed": true
   },
   "outputs": [],
   "source": [
    "%%capture\n",
    "samples = {'SRR4048747':'CMU-1',\n",
    "           'SRR4048748':'CXU-1',\n",
    "           'SRR4048749':'CMS-1',\n",
    "           'SRR4048750':'CXS-1',\n",
    "           'SRR4048751':'CMUsyn-1',\n",
    "           'SRR4048752':'CXUsyn-1',\n",
    "           'SRR4048753':'CMSsyn-1',\n",
    "           'SRR4048754':'CXSsyn-1',\n",
    "           'SRR4048755':'CMU-2',\n",
    "           'SRR4048756':'CXU-2',\n",
    "           'SRR4048757':'CMS-2',\n",
    "           'SRR4048758':'CXS-2',\n",
    "           'SRR4048759':'CMUsyn-2',\n",
    "           'SRR4048760':'CXUsyn-2',\n",
    "           'SRR4048761':'CMSsyn-2',\n",
    "           'SRR4048762':'CXSsyn-2'}\n",
    "\n",
    "for (accession, samplename) in samples.items():\n",
    "    print \"Downloading and converting file format for sample %s, which corresponds to accession %s.\" % (samplename, accession)\n",
    "    !cd FASTQ_files; wget --no-clobber 'ftp://ftp-trace.ncbi.nih.gov/sra/sra-instant/reads/ByRun/sra/SRR/SRR404/'$accession'/'$accession'.sra'\n",
    "    !mv \"FASTQ_files/\"$accession\".sra\" \"FASTQ_files/\"$samplename\".sra\"\n",
    "    !fastq-dump -O FASTQ_files/ --split-files \"FASTQ_files/\"$samplename\".sra\""
   ]
  },
  {
   "cell_type": "markdown",
   "metadata": {
    "collapsed": true
   },
   "source": [
    "## Calculate mutant and wildtype codon counts at NP site 51"
   ]
  },
  {
   "cell_type": "markdown",
   "metadata": {},
   "source": [
    "<a id='align_reads'></a>\n",
    "**Align paired-end reads to NP and count mutations**\n",
    "\n",
    "Below, we use functions from ```dms_tools``` to align paired-end reads to an amplicon that covers NP site 51.\n",
    "\n",
    "First, we read in the names of read pair FASTQ files for each experiment. Each experimental condition has an R1 read file and an R2 read file."
   ]
  },
  {
   "cell_type": "code",
   "execution_count": null,
   "metadata": {
    "collapsed": false
   },
   "outputs": [],
   "source": [
    "# Store (r1file, r2file) in dictionary keyed by (replicate, experiment) ie (1, CMU)\n",
    "fastqfiles = {}\n",
    "for replicate in replicates:\n",
    "    if not os.path.isdir('%s/replicate-%s' % (basedir, replicate)):\n",
    "        os.mkdir('%s/replicate-%s' % (basedir, replicate))  \n",
    "    for experiment in experiments:\n",
    "        if not os.path.isdir('%s/replicate-%s/%s' % (basedir, replicate, experiment)):\n",
    "            os.mkdir('%s/replicate-%s/%s' % (basedir, replicate, experiment))\n",
    "        r1file = '%s/%s-%s_1.fastq' % (FASTQdir, experiment, replicate)\n",
    "        r2file = '%s/%s-%s_2.fastq' % (FASTQdir, experiment, replicate)\n",
    "        fastqfiles[(replicate, experiment)] = (r1file, r2file)     "
   ]
  },
  {
   "cell_type": "markdown",
   "metadata": {},
   "source": [
    "Next we iterate through R1, R2 read pairs for each experiment and check quality of reads. Read pairs are discarded if any read has above a certain fraction of nucleotides with low Q score."
   ]
  },
  {
   "cell_type": "code",
   "execution_count": null,
   "metadata": {
    "collapsed": false
   },
   "outputs": [],
   "source": [
    "# Keep count of how many reads fall into each of the below categories\n",
    "readcategories = ['total read pairs', 'read pairs that fail Illumina filter', 'low quality read pairs']\n",
    "\n",
    "# Dictionary keyed by 'replicate experiment' ie (1 CMU), values are 2-tuple of paired R1 and R2 reads that pass quality filters\n",
    "readpairs = {}\n",
    "\n",
    "for replicate in replicates:\n",
    "    for experiment in experiments: \n",
    "        readpairs['%s %s' % (replicate, experiment)] = []     \n",
    "        \n",
    "        # Dictionary keeping count of what category each read pair falls into \n",
    "        n = dict([(category, 0) for category in readcategories])\n",
    "\n",
    "        (r1file, r2file) = fastqfiles[(replicate, experiment)]\n",
    "        print r1file, r2file\n",
    "        \n",
    "        for read_tup in dms_tools.file_io.IteratePairedFASTQ([r1file], [r2file], gzipped, applyfilter=True):\n",
    "            n['total read pairs'] += 1\n",
    "\n",
    "            if read_tup:   # Read pair passed Illumina chastity filter\n",
    "                (name, r1, r2, q1, q2) = read_tup\n",
    "                (r1, r2, q1, q2) = dms_tools.utils.TrimReads(r1, r2, q1, q2, 75, 75)\n",
    "                qcheckedreads = dms_tools.utils.CheckReadQuality(r1, r2, q1, q2, minq, maxlowqfrac, barcodelength=0)\n",
    "                if qcheckedreads: # Read pair does not have a high fraction of ambiguous N nucleotides\n",
    "                    (r1, r2) = qcheckedreads\n",
    "                    readpairs['%s %s' % (replicate, experiment)].append((r1, r2))\n",
    "                else:\n",
    "                    n['low quality read pairs'] += 1\n",
    "            else:\n",
    "                n['read pairs that fail Illumina filter'] += 1\n",
    "            if n['total read pairs'] % 1e5 == 0:\n",
    "                print 'Reads parsed in %s %s so far: %d' % (replicate, experiment, n['total read pairs'])"
   ]
  },
  {
   "cell_type": "markdown",
   "metadata": {},
   "source": [
    "Below, for each read pair in each experiment, try to align reads to one of the possible NP amplicons. Each NP amplicon is the product of a 1st and 2nd round PCR reaction centered around the mutation site of interest. The reactions add the Illumina adapters and experimental barcodes. A different alignspecs for aligning reads to an amplicon is used depending on whether the experiment is testing a nonysynonymous amino-acid mutation or a synonymous codon mutation. The counts for each experiment and mutation site combination are written to codon counts and amino-acid counts files."
   ]
  },
  {
   "cell_type": "code",
   "execution_count": null,
   "metadata": {
    "collapsed": false
   },
   "outputs": [],
   "source": [
    "# Iterate over all read pairs from each experiment, and align the reads to an amplicon region of the NP reference sequence.\n",
    "# If the read pair aligns, update the mutation counts.\n",
    "for replicate in replicates:\n",
    "    for experiment in experiments:         \n",
    "        # Choose alignspecs and amplicons based on whether this competition experiment is testing a nonsynonymous amino-acid mutation or synonymous codon mutation.\n",
    "        if experiment in experiments_syn:\n",
    "            alignspecs = alignspecs_syn\n",
    "            amplicons = amplicons_syn\n",
    "        else:\n",
    "            alignspecs = alignspecs_nonsyn\n",
    "            amplicons = amplicons_nonsyn\n",
    "            \n",
    "        # Initialize codon count dictionary for each amplicon to which the reads may be aligned\n",
    "        # Key is amplicon and value is codon count dictionary that holds mutation counts in format for dms_tools.file_io.WriteDMSCounts\n",
    "        counts = {}\n",
    "        for amplicon in amplicons:\n",
    "            counts[amplicon] = {}\n",
    "            for r in range(1, len(refseq) // 3 + 1):\n",
    "                counts[amplicon][str(r)] = dict([('WT', refseq[3 * r - 3 : 3 * r])] + [(codon, 0) for codon in dms_tools.codons])\n",
    "\n",
    "        # For each read pair, try to align reads to amplicon iterating over the different amplicons specified by alignspecs\n",
    "        numalign = 0\n",
    "        for (r1, r2) in readpairs['%s %s' % (replicate, experiment)]:\n",
    "            for (refseqstart, refseqend, r1start, r2start, amplicon) in alignspecs:\n",
    "                maxN = int(maxlowqfrac * min(refseqend - refseqstart + 1, len(r1) + len(r2) - r1start - r2start + 2))\n",
    "                if r1start >= len(r1) or r2start >= len(r2):\n",
    "                    aligned = False # reads too short to align\n",
    "                else:\n",
    "                    aligned = dms_tools.utils.AlignSubamplicon(refseq, r1[r1start - 1 : ], r2[r2start - 1 : ], refseqstart, refseqend, maxmuts, \n",
    "                                                               maxN, 'codon', counts[amplicon], use_cutils=True)\n",
    "                if aligned:\n",
    "                    numalign += 1\n",
    "                    break   # found the amplicon to which these reads align\n",
    "        \n",
    "        # Write the codon and amino acid counts for this experimental condition and set of amplicons (experiment, replicate, amplicon)\n",
    "        countsdir = '%s/replicate-%s/%s' % (basedir, replicate, experiment)\n",
    "        if not os.path.isdir(countsdir):\n",
    "            os.mkdir(countsdir)\n",
    "        for amplicon in amplicons:\n",
    "            codoncountsfile = '%s/%s_%s_%s_codoncounts.txt' % (countsdir, replicate, experiment, amplicon)\n",
    "            aacountsfile = '%s/%s_%s_%s_aacounts.txt' % (countsdir, replicate, experiment, amplicon)\n",
    "            dms_tools.file_io.WriteDMSCounts(codoncountsfile, counts[amplicon])\n",
    "            \n",
    "            # Translate codon counts to amino-acid counts and write to file\n",
    "            aacounts = dms_tools.file_io.ReadDMSCounts(codoncountsfile, 'codon', translate_codon_to_aa=True)\n",
    "            dms_tools.file_io.WriteDMSCounts(aacountsfile, aacounts)"
   ]
  },
  {
   "cell_type": "markdown",
   "metadata": {},
   "source": [
    "<a id='frequency'></a>\n",
    "**Calculate mutation frequency at site 51**\n",
    "\n",
    "The function below calculates amino acid or codon frequencies at a specified site"
   ]
  },
  {
   "cell_type": "code",
   "execution_count": null,
   "metadata": {
    "collapsed": false
   },
   "outputs": [],
   "source": [
    "def CharacterFrequencyAtSite(counts, site, chartype):\n",
    "    '''This function takes a dictionary of amino-acid or codon counts and calculates the frequency\n",
    "    of each amino acid or codon at a specified site.\n",
    "    \n",
    "    *counts* : Dictionary of amino-acid or codon counts for each site using the format in `dms_tools.file_io.ReadDMSCounts`\n",
    "    *site* : String giving the site at which to calculate amino-acid or codon frequencies of each amino acid or codon\n",
    "    *chartype* is the type of character. Valid values are the following strings:\n",
    "        - *codon* : DNA codons, those listed in the *codons* variable in `dms_tools.file_io'\n",
    "        - *aminoacids_nostop* : amino acids, not including stop codons.\n",
    "        - *aminoacids_withstop* : amino acids, including stop codons (``*``).\n",
    "    *freqs* : Dictionary where each key is an amino acid or codon and the value is the corresponding\n",
    "    amino-acid or codon frequency at that **site**\n",
    "    '''\n",
    "    if chartype.upper() == 'CODON':\n",
    "        characters = dms_tools.codons\n",
    "    elif chartype.upper() == 'AMINOACIDS_NOSTOP':\n",
    "        characters = dms_tools.aminoacids_nostop\n",
    "    elif chartype.upper() == 'AMINOACIDS_WITHSTOP':\n",
    "        characters = dms_tools.aminoacids_withstop\n",
    "    else:\n",
    "        raise ValueError(\"Invalid chartype of %s\" % chartype)\n",
    "    if site not in counts:\n",
    "        raise ValueError('Specified site %s not found in counts dictionary' % site)\n",
    "                         \n",
    "    totalcounts = sum([counts[site][char] for char in characters])\n",
    "    if totalcounts:\n",
    "        freqs = dict( [(char, float(counts[site][char]) / totalcounts) for char in characters] )\n",
    "    else:\n",
    "        print 'There are no counts at site %s' % site,\n",
    "        freqs = dict( [(char, 0) for char in characters] )\n",
    "    return freqs"
   ]
  },
  {
   "cell_type": "markdown",
   "metadata": {},
   "source": [
    "Next we read in the codon counts and amino-acid counts at site 51 for each competition experiment and calculate their mutation frequencies. "
   ]
  },
  {
   "cell_type": "code",
   "execution_count": null,
   "metadata": {
    "collapsed": false
   },
   "outputs": [],
   "source": [
    "# Dictionaries storing amino-acid or codon frequencies. The key is 'replicate, experiment, site' ie (1, CMU, 51) and the value is\n",
    "# a dictionary keyed by amino-acid or codon and the value is the corresponding frequency.\n",
    "aafreqs = {}\n",
    "codonfreqs = {}\n",
    "\n",
    "# Read in amino-acid counts and codon counts, and calculate their frequencies at the sites tested in the competition experiment\n",
    "for replicate in replicates:\n",
    "    for experiment in experiments: \n",
    "        countsdir = '%s/replicate-%s/%s' % (basedir, replicate, experiment)\n",
    "        # Choose amplicons based on whether this competition experiment is testing a nonsynonymous (amino-acid mutation) or synonymous codon mutation\n",
    "        if experiment in experiments_syn:\n",
    "            amplicons = amplicons_syn\n",
    "        else:\n",
    "            amplicons = amplicons_nonsyn\n",
    "            \n",
    "        for amplicon in amplicons:\n",
    "            site = amplicon_to_site[amplicon]        # NP site in competition experiment\n",
    "\n",
    "            aacountsfile = '%s/%s_%s_%s_aacounts.txt' % (countsdir, replicate, experiment, amplicon)\n",
    "            aacounts = dms_tools.file_io.ReadDMSCounts(aacountsfile, 'aminoacids_withstop')\n",
    "            aafreqs['%s %s %s' % (replicate, experiment, site)] = CharacterFrequencyAtSite(aacounts, site, 'aminoacids_withstop')\n",
    "            \n",
    "            codoncountsfile = '%s/%s_%s_%s_codoncounts.txt' % (countsdir, replicate, experiment, amplicon)\n",
    "            codoncounts = dms_tools.file_io.ReadDMSCounts(codoncountsfile, 'codon')\n",
    "            codonfreqs['%s %s %s' % (replicate, experiment, site)] = CharacterFrequencyAtSite(codoncounts, site, 'codon')"
   ]
  },
  {
   "cell_type": "markdown",
   "metadata": {},
   "source": [
    "Next we print out amino-acid or codon mutation frequencies for the mutations tested in the competition experiment. We also quantify how each mutation was enriched (MxA resistant amino acid relative to MxA sensitive amino acid, or wildtype codon relative to synonymous codon). This enrichment, or relative mutation frequency, gets plotted at the end of the notebook."
   ]
  },
  {
   "cell_type": "code",
   "execution_count": null,
   "metadata": {
    "collapsed": false
   },
   "outputs": [],
   "source": [
    "columns = ['site', 'replicate', 'experiment', 'sens_freq', 'res_freq']\n",
    "freq = pd.DataFrame(columns=columns)\n",
    "\n",
    "for replicate in replicates:\n",
    "    for (site, char1, char2, amplicon) in tested_muts:        \n",
    "        # If this tested mutation is an amino-acid mutation\n",
    "        if amplicon in amplicons_nonsyn:      \n",
    "            (sensitive, resistant) = (char1, char2)\n",
    "            for experiment in experiments_nonsyn:\n",
    "                expkey = '%s %s %s' % (replicate, experiment, site)\n",
    "                freq = freq.append(pd.DataFrame([[site, replicate, experiment, aafreqs[expkey][sensitive], aafreqs[expkey][resistant]]], columns=columns))\n",
    "\n",
    "        # If this tested mutation is a synonymous mutation\n",
    "        elif amplicon in amplicons_syn:\n",
    "            (wt, syn) = (char1, char2)\n",
    "            for experiment in experiments_syn:\n",
    "                expkey = '%s %s %s' % (replicate, experiment, site)\n",
    "                freq = freq.append(pd.DataFrame([[site, replicate, experiment, codonfreqs[expkey][syn], codonfreqs[expkey][wt]]], columns=columns))\n",
    "        else:\n",
    "            raise ValueError('Amplicon %s not found' % amplicon)\n",
    "            \n",
    "# Use mutation frequencies to calculate how each mutation was enriched\n",
    "freq['enrich'] = freq['res_freq']/freq['sens_freq']   \n",
    "freq"
   ]
  },
  {
   "cell_type": "markdown",
   "metadata": {},
   "source": [
    "## Plot competition-experiment results\n",
    "\n",
    "<a id='plot'></a>\n",
    "**Plot relative NP mutation frequencies over time**"
   ]
  },
  {
   "cell_type": "code",
   "execution_count": null,
   "metadata": {
    "collapsed": false
   },
   "outputs": [],
   "source": [
    "plotfile = '%s/competition.pdf' % figdir\n",
    "plt.close('all') \n",
    "plt.rc('font', family='sans-serif')\n",
    "site = '51'\n",
    "xlabels = ['-MxA', '+MxA', '-MxA', '+MxA']\n",
    "ylabel = 'Frequency'\n",
    "times = [0, 10, 54]     # hours post-infection\n",
    "fig, axes = plt.subplots(nrows=2, ncols=2, figsize=(12, 12))\n",
    "\n",
    "# Plot amino-acid or codon frequency for a given site depending on mutation type\n",
    "# D51N\n",
    "for replicate, ax in zip(replicates, (axes[0][0], axes[0][1])):\n",
    "    plotfreq = dict([(experiment, float(freq[(freq.site==site) & (freq.replicate==replicate) & (freq.experiment==experiment)]['enrich'])) for experiment in experiments_nonsyn])\n",
    "\n",
    "    # points and lines to connect for 10, 54 hrs post infection\n",
    "    ax.plot(times[1:], [plotfreq['CMU'], plotfreq['CMS']], 'b', linewidth=3, marker='s', markersize=15, clip_on=False)    # MDCK-SIAT1\n",
    "    ax.plot(times[1:], [plotfreq['CXU'], plotfreq['CXS']], 'r', linewidth=3, marker='o', markersize=15, clip_on=False)    # MDCK-SIAT1-MxA\n",
    "\n",
    "    # points and dashed lines to connect to 0 hrs post infection (target input)\n",
    "    ax.scatter(times[0], 1, facecolors='none', edgecolors='k', s=150, clip_on=False)\n",
    "    ax.plot(times[:2], [1, plotfreq['CMU']], 'b--', linewidth=3)\n",
    "    ax.plot(times[:2], [1, plotfreq['CXU']], 'r--', linewidth=3)\n",
    "\n",
    "# D51Dsyn\n",
    "for replicate, ax in zip(replicates, (axes[1][0], axes[1][1])):\n",
    "    plotfreq = dict([(experiment, float(freq[(freq.site==site) & (freq.replicate==replicate) & (freq.experiment==experiment)]['enrich'])) for experiment in experiments_syn]) \n",
    "\n",
    "    # points and lines to connect for 10, 54 hrs post infection\n",
    "    ax.plot(times[1:], [plotfreq['CMUsyn'], plotfreq['CMSsyn']], 'b', linewidth=3, marker='s', markersize=15, clip_on=False)    # MDCK-SIAT1\n",
    "    ax.plot(times[1:], [plotfreq['CXUsyn'], plotfreq['CXSsyn']], 'r', linewidth=3, marker='o', markersize=15, clip_on=False)    # MDCK-SIAT1-MxA\n",
    "\n",
    "    # points and dashed lines to connect to 0 hrs post infection (target input)\n",
    "    ax.scatter(times[0], 1, facecolors='none', edgecolors='k', s=150, clip_on=False)\n",
    "    ax.plot(times[:2], [1, plotfreq['CMUsyn']], 'b--', linewidth=3)\n",
    "    ax.plot(times[:2], [1, plotfreq['CXUsyn']], 'r--', linewidth=3)\n",
    "\n",
    "# Axis properties\n",
    "spineOffset = {'left': 10, 'bottom': 0}    \n",
    "for ax in axes.flatten():\n",
    "    ax.axhline(y=1, linewidth=2, color='gray', linestyle='--')\n",
    "\n",
    "    [spine.set_position(('outward',spineOffset[loc])) if loc in ['left','bottom'] else spine.set_color('none') for loc, spine in ax.spines.items() ] \n",
    "    ax.xaxis.set(ticks_position = 'bottom')\n",
    "    ax.yaxis.set(ticks_position = 'left')\n",
    "\n",
    "    ax.set_xlim([times[0]-1, times[2]+1])\n",
    "    ax.set_xticks(times)\n",
    "    ax.xaxis.set_tick_params(width=3)\n",
    "    ax.set_xticklabels([])\n",
    "    \n",
    "    ax.set_yscale('log')\n",
    "    ax.set_ylim([1e-1, 2e3])\n",
    "    ax.yaxis.set_tick_params(labelsize=20, width=3)\n",
    "    ax.set_yticklabels([])\n",
    "\n",
    "axes[0,0].set_title('replicate 1', fontsize=30)\n",
    "axes[0,1].set_title('replicate 2', fontsize=30)\n",
    "\n",
    "axes[1,0].set_xticklabels(['target input', '10 hpi', '54 hpi'], fontsize=30, rotation='vertical')\n",
    "axes[1,1].set_xticklabels(['target input', '10 hpi', '54 hpi'], fontsize=30, rotation='vertical')\n",
    "\n",
    "axes[0,0].set_ylabel('D51:N51', fontsize=30)\n",
    "axes[1, 0].set_ylabel('D51:Dsyn51', fontsize=30)\n",
    "axes[0,0].legend(['MDCK-SIAT1', 'MDCK-SIAT1-\\nMxA'], bbox_to_anchor=(.4,.96), bbox_transform=plt.gcf().transFigure, frameon=False, numpoints=1, fontsize=22)\n",
    "\n",
    "ylabels = ['$\\mathregular{10^{-1}}$', '$\\mathregular{1}$', '$\\mathregular{10^{1}}$', '$\\mathregular{10^{2}}$', '$\\mathregular{10^{3}}$']\n",
    "axes[0,0].set_yticks([1e-1, 1, 1e1, 1e2, 1e3])\n",
    "axes[1,0].set_yticks([1e-1, 1, 1e1, 1e2, 1e3])\n",
    "axes[0,0].set_yticklabels(ylabels, fontsize=26)\n",
    "axes[1,0].set_yticklabels(ylabels, fontsize=26)\n",
    "\n",
    "plt.tight_layout()\n",
    "plt.savefig(plotfile)\n",
    "ShowPDFinline(plotfile, figdir, 700)"
   ]
  }
 ],
 "metadata": {
  "kernelspec": {
   "display_name": "Python 2",
   "language": "python",
   "name": "python2"
  },
  "language_info": {
   "codemirror_mode": {
    "name": "ipython",
    "version": 2
   },
   "file_extension": ".py",
   "mimetype": "text/x-python",
   "name": "python",
   "nbconvert_exporter": "python",
   "pygments_lexer": "ipython2",
   "version": "2.7.6"
  }
 },
 "nbformat": 4,
 "nbformat_minor": 0
}
