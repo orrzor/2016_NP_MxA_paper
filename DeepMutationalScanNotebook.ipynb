{
 "cells": [
  {
   "cell_type": "markdown",
   "metadata": {},
   "source": [
    "# Analysis of deep mutational scanning of influenza A/Aichi/1968 (H3N2) nucleoprotein sensitivity to human MxA\n",
    "\n",
    "Orr Ashenberg, 24 August 2016\n",
    "\n",
    "To run the commands in this notebook, please first install <a href='https://github.com/biopython/biopython'>```Biopython ```</a>  and <a href='https://github.com/jbloomlab/dms_tools'>```dms_tools```</a>, and then verify that they can be run in the directory in which you placed this ipython notebook.\n",
    "\n",
    "---"
   ]
  },
  {
   "cell_type": "markdown",
   "metadata": {},
   "source": [
    "## Table of contents\n",
    "\n",
    "### Load required modules and raw data\n",
    "<a href='#prelim'>Preliminary set-up and load required modules</a>\n",
    "\n",
    "<a href='#download_SRA'>Download sequencing data from the SRA</a>\n",
    "\n",
    "### Process and analyze deep sequencing data with ```mapmuts```\n",
    "<a href='#mapmuts_makealignments'>Aligning paired-end reads with ```mapmuts_makealignments```</a>\n",
    "\n",
    "<a href='#mapmuts_parsecounts'>Parsing mutation counts with ```mapmuts_parsecounts```</a>\n",
    "\n",
    "### Calculate differential selection and make figures\n",
    "<a href='#diffsel'>Calculate differential selection for each mutation and each site in NP</a>\n",
    "\n",
    "<a href='#correlation'>Correlations between site differential selections and mutation differential selections for biological replicates</a>\n",
    "\n",
    "<a href='#distribution'>Distributions of site differential selections and mutation differential selections</a>\n",
    "\n",
    "<a href='#logoplot'>Logo plot of mutation differential selections at each NP site</a>\n",
    "\n",
    "<a href='#topsites'>NP sites or mutations with the greatest differential selection</a>\n",
    "\n",
    "<a href='#site51'>Mutation differential selections at site 51 for both biological replicates</a>\n",
    "\n",
    "---"
   ]
  },
  {
   "cell_type": "markdown",
   "metadata": {},
   "source": [
    "## Load required modules and raw data"
   ]
  },
  {
   "cell_type": "markdown",
   "metadata": {},
   "source": [
    "<a id='prelim'></a>\n",
    "**Preliminary set-up and load required modules:**"
   ]
  },
  {
   "cell_type": "code",
   "execution_count": 1,
   "metadata": {
    "collapsed": false
   },
   "outputs": [
    {
     "name": "stdout",
     "output_type": "stream",
     "text": [
      "Using matplotlib version 1.5.0\n"
     ]
    }
   ],
   "source": [
    "import os\n",
    "basedir = os.getcwd()\n",
    "if not os.path.isdir('notebook_figures'):\n",
    "    !mkdir notebook_figures\n",
    "if not os.path.isdir('FASTQ_files'):\n",
    "    !mkdir FASTQ_files\n",
    "figdir = '%s/notebook_figures' % basedir\n",
    "\n",
    "import matplotlib\n",
    "print \"Using matplotlib version %s\" % matplotlib.__version__\n",
    "matplotlib.use(\"Pdf\")\n",
    "import numpy as np\n",
    "import matplotlib.pyplot as plt\n",
    "import scipy.stats\n",
    "from operator import itemgetter\n",
    "import os\n",
    "import subprocess\n",
    "import math\n",
    "import glob\n",
    "import pandas as pd\n",
    "import dms_tools.plot\n",
    "import dms_tools.file_io\n",
    "import dms_tools.utils\n",
    "import dms_tools.weblogo\n",
    "from runscriptfunctions import * # functions to facilitate running parallel jobs on the Fred Hutch scientific computing cluster using `slurm`"
   ]
  },
  {
   "cell_type": "markdown",
   "metadata": {},
   "source": [
    "Specifications for running ```mapmuts``` scripts. The only flag that the user may need to change is the ```use_sbatch``` flag."
   ]
  },
  {
   "cell_type": "code",
   "execution_count": 2,
   "metadata": {
    "collapsed": true
   },
   "outputs": [],
   "source": [
    "# Where FASTQ files from SRA will be downloaded\n",
    "FASTQdir = '%s/FASTQ_files' % basedir\n",
    "\n",
    "# sbatch submits a batch script to Slurm, a program for sending jobs to a computer cluster among other things. \n",
    "# If you do not have sbatch installed, set this flag to False. \n",
    "# The most computationally intense activity of this script is running mapmuts_makealignments, \n",
    "# which without using sbatch will take only a few hours on a modern computer (Align reads for 14 individual replicate-amplicons, each takes ~30 min). \n",
    "use_sbatch = True\n",
    "\n",
    "# Maximum number of CPUs to try to use at once. If not using sbatch for running mapmuts scripts on a cluster, don't make this bigger than the number of available cores.\n",
    "max_cpus = 100\n",
    "\n",
    "# Specify the biological replicates and library amplicons that were sequenced.\n",
    "replicates = ['1', '2']\n",
    "amplicons = ['DNA', 'mutDNA', 'vir', 'mutvir', 'mutvir_MS', 'mutvir_MxA', 'mutvir_MxAneg']\n",
    "\n",
    "# Specify range of nucleotides in the Aichi/1968 NP amplicon to use for aligning reads\n",
    "generange = (62, 1555) \n",
    "\n",
    "# Specify range of residues to consider in mapmuts_countparsedmuts.py\n",
    "sitesrange = (2, 498) "
   ]
  },
  {
   "cell_type": "markdown",
   "metadata": {},
   "source": [
    "Specifications for running ```dms_tools``` scripts. Nothing here needs to be changed by the user."
   ]
  },
  {
   "cell_type": "code",
   "execution_count": 3,
   "metadata": {
    "collapsed": true
   },
   "outputs": [],
   "source": [
    "# Specify which mutant virus libraries to use as control selection and MxA selection to calculate differential selections\n",
    "controls = ['mutvir_MS', 'mutvir_MxAneg']\n",
    "selection = 'mutvir_MxA'\n",
    "\n",
    "# List of MxA sensitivity mutations. Tuple elements are (site, resistance mutation, sensitivity mutation)\n",
    "# These mutations were characterized by Mänz, Benjamin, et al. PLoS Pathog 9.3 (2013): e1003279.\n",
    "lit = [('100', 'V', 'R'), ('283', 'P', 'L'), ('313', 'Y', 'F')]"
   ]
  },
  {
   "cell_type": "markdown",
   "metadata": {},
   "source": [
    "<a id='download_SRA'></a>\n",
    "**Download sequencing data from the SRA:**"
   ]
  },
  {
   "cell_type": "code",
   "execution_count": 4,
   "metadata": {
    "collapsed": true
   },
   "outputs": [],
   "source": [
    "%%capture\n",
    "samples = {'SRR4048733':'DNA-1',\n",
    "           'SRR4048734':'vir-1',\n",
    "           'SRR4048735':'mutDNA-1',\n",
    "           'SRR4048736':'mutvir-1',\n",
    "           'SRR4048737':'mutvir_MS-1',\n",
    "           'SRR4048738':'mutvir_MxA-1',\n",
    "           'SRR4048739':'mutvir_MxAneg-1',\n",
    "           'SRR4048740':'DNA-2',\n",
    "           'SRR4048741':'vir-2',\n",
    "           'SRR4048742':'mutDNA-2',\n",
    "           'SRR4048743':'mutvir-2',\n",
    "           'SRR4048744':'mutvir_MS-2',\n",
    "           'SRR4048745':'mutvir_MxA-2',\n",
    "           'SRR4048746':'mutvir_MxAneg-2'}\n",
    "\n",
    "for (accession, samplename) in samples.items():\n",
    "    print \"Downloading and converting file format for sample %s, which corresponds to accession %s.\" % (samplename, accession)\n",
    "    !cd FASTQ_files; wget --no-clobber 'ftp://ftp-trace.ncbi.nih.gov/sra/sra-instant/reads/ByRun/sra/SRR/SRR404/'$accession'/'$accession'.sra'\n",
    "    !mv \"FASTQ_files/\"$accession\".sra\" \"FASTQ_files/\"$samplename\".sra\"\n",
    "    !fastq-dump -O FASTQ_files/ --split-files \"FASTQ_files/\"$samplename\".sra\""
   ]
  },
  {
   "cell_type": "markdown",
   "metadata": {
    "collapsed": true
   },
   "source": [
    "## Process and analyze deep sequencing data"
   ]
  },
  {
   "cell_type": "markdown",
   "metadata": {},
   "source": [
    "<a id='mapmuts_makealignments'></a>\n",
    "**Aligning paired-end reads with** ```mapmuts_makealignments```"
   ]
  },
  {
   "cell_type": "code",
   "execution_count": 5,
   "metadata": {
    "collapsed": false
   },
   "outputs": [
    {
     "name": "stdout",
     "output_type": "stream",
     "text": [
      "Running mapmuts_makealignments.py for makealignments in directory replicate-1/DNA...\n",
      "Running mapmuts_makealignments.py for makealignments in directory replicate-1/mutDNA...\n",
      "Running mapmuts_makealignments.py for makealignments in directory replicate-1/vir...\n",
      "ERROR running mapmuts_makealignments.py for makealignments in directory replicate-1/DNA.\n",
      "Running mapmuts_makealignments.py for makealignments in directory replicate-1/mutvir...\n",
      "ERROR running mapmuts_makealignments.py for makealignments in directory replicate-1/mutDNA.\n",
      "Running mapmuts_makealignments.py for makealignments in directory replicate-1/mutvir_MS...\n",
      "ERROR running mapmuts_makealignments.py for makealignments in directory replicate-1/vir.\n",
      "Running mapmuts_makealignments.py for makealignments in directory replicate-1/mutvir_MxA...\n",
      "ERROR running mapmuts_makealignments.py for makealignments in directory replicate-1/mutvir.\n",
      "Running mapmuts_makealignments.py for makealignments in directory replicate-1/mutvir_MxAneg...\n",
      "ERROR running mapmuts_makealignments.py for makealignments in directory replicate-1/mutvir_MS.\n",
      "Running mapmuts_makealignments.py for makealignments in directory replicate-2/DNA...\n",
      "ERROR running mapmuts_makealignments.py for makealignments in directory replicate-1/mutvir_MxA.\n",
      "Running mapmuts_makealignments.py for makealignments in directory replicate-2/mutDNA...\n",
      "ERROR running mapmuts_makealignments.py for makealignments in directory replicate-1/mutvir_MxAneg.\n",
      "Running mapmuts_makealignments.py for makealignments in directory replicate-2/vir...\n",
      "ERROR running mapmuts_makealignments.py for makealignments in directory replicate-2/DNA.\n",
      "Running mapmuts_makealignments.py for makealignments in directory replicate-2/mutvir...\n",
      "ERROR running mapmuts_makealignments.py for makealignments in directory replicate-2/mutDNA.\n",
      "Running mapmuts_makealignments.py for makealignments in directory replicate-2/mutvir_MS...\n",
      "ERROR running mapmuts_makealignments.py for makealignments in directory replicate-2/vir.\n",
      "Running mapmuts_makealignments.py for makealignments in directory replicate-2/mutvir_MxA...\n",
      "ERROR running mapmuts_makealignments.py for makealignments in directory replicate-2/mutvir.\n",
      "Running mapmuts_makealignments.py for makealignments in directory replicate-2/mutvir_MxAneg...\n",
      "ERROR running mapmuts_makealignments.py for makealignments in directory replicate-2/mutvir_MS.ERROR running mapmuts_makealignments.py for makealignments in directory replicate-2/mutvir_MxA.ERROR running mapmuts_makealignments.py for makealignments in directory replicate-2/mutvir_MxAneg.\n",
      "\n",
      "\n"
     ]
    }
   ],
   "source": [
    "processes = []    # List of process to run (run in parallel if sbatch=True)\n",
    "# Dictionary to convert amplicon name for a replicate to appropriate barcoded adapter sequence for trimming barcode from R1 read\n",
    "R1_trims_d = {  'DNA-1' : 'R1_adapter_AR003.fa',\n",
    "                'vir-1' : 'R1_adapter_AR025.fa',\n",
    "                'mutDNA-1' : 'R1_adapter_AR009.fa',\n",
    "                'mutvir-1' : 'R1_adapter_AR022.fa',\n",
    "                'mutvir_MS-1' : 'R1_adapter_AR002.fa',\n",
    "                'mutvir_MxA-1' : 'R1_adapter_AR004.fa',\n",
    "                'mutvir_MxAneg-1' : 'R1_adapter_AR007.fa',\n",
    "                'DNA-2' : 'R1_adapter_AR003.fa',\n",
    "                'vir-2' : 'R1_adapter_AR025.fa',\n",
    "                'mutDNA-2' : 'R1_adapter_AR009.fa',\n",
    "                'mutvir-2' : 'R1_adapter_AR022.fa',\n",
    "                'mutvir_MS-2' : 'R1_adapter_AR002.fa',\n",
    "                'mutvir_MxA-2' : 'R1_adapter_AR004.fa',\n",
    "                'mutvir_MxAneg-2' : 'R1_adapter_AR007.fa'\n",
    "             }\n",
    "\n",
    "# Specifications for running mapmuts_makealignments\n",
    "command_d = {'gzipped':'False',\n",
    "             'applyfilter':'True',\n",
    "             'minq':'25',\n",
    "             'generange':'%d %d' % generange,\n",
    "             'fullgenefile' : '%s/input/Aichi68-NP_amplicon.fa' % basedir,\n",
    "             'a2file':'%s/input/R2_adapterUniversal_RC.fa' % basedir,\n",
    "             'maxn':'5',\n",
    "             'minoverlap':'100',\n",
    "             'maxrm':'1',\n",
    "             'maxa1m':'1',\n",
    "             'maxa2m':'1',\n",
    "             'maxgenem':'10',\n",
    "             'upcase':'test',\n",
    "             'write_unaligned':'True',\n",
    "            }\n",
    "\n",
    "for replicate in replicates:\n",
    "    if not os.path.isdir('replicate-%s' % replicate):\n",
    "        os.mkdir('replicate-%s' % replicate)\n",
    "    for amplicon in amplicons:\n",
    "        if not os.path.isdir('replicate-%s/%s' % (replicate, amplicon)):\n",
    "            os.mkdir('replicate-%s/%s' % (replicate, amplicon))\n",
    "\n",
    "        # Specify the R1 adapter a1file for this replicate-amplicon combination\n",
    "        command_d['a1file'] = '%s/input/%s' % (basedir, R1_trims_d[ amplicon + '-' + replicate ])\n",
    "\n",
    "        # Specify the fastqfiles for this replicate-amplicon\n",
    "        command_d['r1files'] = '%s/%s-%s_1.fastq' % (FASTQdir, amplicon, replicate)\n",
    "        command_d['r2files'] = '%s/%s-%s_2.fastq' % (FASTQdir, amplicon, replicate)\n",
    "\n",
    "        subdir = 'replicate-%s/%s' % (replicate, amplicon)\n",
    "\n",
    "        # outfileprefixes are specified as \"replicate-amplicon\" (ie replicate-1-DNA)\n",
    "        command_d['outfileprefix'] = subdir.replace('/', '-')\n",
    "        # samplenames are specified by \"replicate, amplicon\" (ie replicate-1, DNA)\n",
    "        command_d['samplename'] = subdir.replace('/', ', ')\n",
    "\n",
    "        # Add this makealignments.py call to the list of processes.\n",
    "        # Use *list* to make a copy of *commands* since lists are mutable on subsequent runs\n",
    "        # of making replicate-amplicon combinations.\n",
    "        processes.append(multiprocessing.Process(target=RunScriptMapmuts,\\\n",
    "            args=(subdir, \"makealignments\", 'mapmuts_makealignments.py', list(command_d.items()), use_sbatch, 1)))\n",
    "\n",
    "# run ALL the makealignments processes\n",
    "RunProcesses(processes, nmultiruns=max_cpus)"
   ]
  },
  {
   "cell_type": "markdown",
   "metadata": {},
   "source": [
    "<a id='mapmuts_parsecounts'></a>\n",
    "**Parsing mutation counts with** ```mapmuts_parsecounts```. The main output is counts of the different nucleotide and codon identities at each NP site for each sequenced library."
   ]
  },
  {
   "cell_type": "code",
   "execution_count": 6,
   "metadata": {
    "collapsed": false
   },
   "outputs": [
    {
     "name": "stdout",
     "output_type": "stream",
     "text": [
      "Running mapmuts_parsecounts.py for parsecounts in directory replicate-1/DNA...\n",
      "Running mapmuts_parsecounts.py for parsecounts in directory replicate-1/mutDNA...\n",
      "Running mapmuts_parsecounts.py for parsecounts in directory replicate-1/vir...\n",
      "ERROR running mapmuts_parsecounts.py for parsecounts in directory replicate-1/DNA.\n",
      "Running mapmuts_parsecounts.py for parsecounts in directory replicate-1/mutvir...\n",
      "ERROR running mapmuts_parsecounts.py for parsecounts in directory replicate-1/mutDNA.\n",
      "Running mapmuts_parsecounts.py for parsecounts in directory replicate-1/mutvir_MS...\n",
      "ERROR running mapmuts_parsecounts.py for parsecounts in directory replicate-1/vir.\n",
      "Running mapmuts_parsecounts.py for parsecounts in directory replicate-1/mutvir_MxA...\n",
      "ERROR running mapmuts_parsecounts.py for parsecounts in directory replicate-1/mutvir.\n",
      "Running mapmuts_parsecounts.py for parsecounts in directory replicate-1/mutvir_MxAneg...\n",
      "ERROR running mapmuts_parsecounts.py for parsecounts in directory replicate-1/mutvir_MS.\n",
      "Running mapmuts_parsecounts.py for parsecounts in directory replicate-2/DNA...\n",
      "ERROR running mapmuts_parsecounts.py for parsecounts in directory replicate-1/mutvir_MxA.\n",
      "Running mapmuts_parsecounts.py for parsecounts in directory replicate-2/mutDNA...\n",
      "ERROR running mapmuts_parsecounts.py for parsecounts in directory replicate-1/mutvir_MxAneg.\n",
      "Running mapmuts_parsecounts.py for parsecounts in directory replicate-2/vir...\n",
      "ERROR running mapmuts_parsecounts.py for parsecounts in directory replicate-2/DNA.\n",
      "Running mapmuts_parsecounts.py for parsecounts in directory replicate-2/mutvir...\n",
      "ERROR running mapmuts_parsecounts.py for parsecounts in directory replicate-2/mutDNA.\n",
      "Running mapmuts_parsecounts.py for parsecounts in directory replicate-2/mutvir_MS...\n",
      "ERROR running mapmuts_parsecounts.py for parsecounts in directory replicate-2/vir.\n",
      "Running mapmuts_parsecounts.py for parsecounts in directory replicate-2/mutvir_MxA...\n",
      "ERROR running mapmuts_parsecounts.py for parsecounts in directory replicate-2/mutvir.\n",
      "Running mapmuts_parsecounts.py for parsecounts in directory replicate-2/mutvir_MxAneg...\n",
      "ERROR running mapmuts_parsecounts.py for parsecounts in directory replicate-2/mutvir_MS.ERROR running mapmuts_parsecounts.py for parsecounts in directory replicate-2/mutvir_MxA.ERROR running mapmuts_parsecounts.py for parsecounts in directory replicate-2/mutvir_MxAneg.\n",
      "\n",
      "\n"
     ]
    }
   ],
   "source": [
    "processes = []    # List of process to run (run in parallel if sbatch=True)\n",
    "command_d = {'generange':'%d %d' % generange,\n",
    "             'upcase':'test',\n",
    "             'r1exclude':'1 2 3 4 5 6 7 8 9 10 11 12 13 14 15',\n",
    "             'r2exclude':'1 2 3 4 5 6 7 8 9 10 11 12 13 14 15',\n",
    "             'fullgenefile' : '%s/input/Aichi68-NP_amplicon.fa' % basedir\n",
    "            }\n",
    "\n",
    "for replicate in replicates:\n",
    "    for amplicon in amplicons:\n",
    "        subdir = 'replicate-%s/%s' % (replicate, amplicon)\n",
    "        # outfileprefixes are specified as \"replicate-amplicon\" (ie replicate-1-DNA)\n",
    "        command_d['outfileprefix'] = subdir.replace('/', '-')\n",
    "        # samplenames are specified by \"replicate, amplicon\" (ie replicate-1, DNA)\n",
    "        command_d['samplename'] = subdir.replace('/', ', ') \n",
    "        command_d['alignmentfile'] = '%s/%s/%s_alignments.txt.gz' % (basedir, subdir, command_d['outfileprefix'])\n",
    "        processes.append(multiprocessing.Process(target=RunScriptMapmuts,args=(subdir, 'parsecounts', 'mapmuts_parsecounts.py', list(command_d.items()), use_sbatch, 1)))\n",
    "\n",
    "RunProcesses(processes, nmultiruns=max_cpus)"
   ]
  },
  {
   "cell_type": "markdown",
   "metadata": {},
   "source": [
    "Run ```mapmuts_parsesummaryplots``` to show summary of mutation rates and error rates for the sequenced amplicons."
   ]
  },
  {
   "cell_type": "code",
   "execution_count": 7,
   "metadata": {
    "collapsed": false
   },
   "outputs": [
    {
     "name": "stdout",
     "output_type": "stream",
     "text": [
      "Running mapmuts_parsesummaryplots.py for parsesummaryplots in directory replicate-1...\n",
      "ERROR running mapmuts_parsesummaryplots.py for parsesummaryplots in directory replicate-1.\n"
     ]
    },
    {
     "data": {
      "image/png": "[encoded data removed]",
      "text/plain": [
       "<IPython.core.display.Image object>"
      ]
     },
     "metadata": {
      "image/png": {
       "width": 600
      }
     },
     "output_type": "display_data"
    },
    {
     "name": "stdout",
     "output_type": "stream",
     "text": [
      "Running mapmuts_parsesummaryplots.py for parsesummaryplots in directory replicate-2...\n",
      "ERROR running mapmuts_parsesummaryplots.py for parsesummaryplots in directory replicate-2.\n"
     ]
    },
    {
     "data": {
      "image/png": "[encoded data removed]",
      "text/plain": [
       "<IPython.core.display.Image object>"
      ]
     },
     "metadata": {
      "image/png": {
       "width": 600
      }
     },
     "output_type": "display_data"
    }
   ],
   "source": [
    "for replicate in replicates:\n",
    "    commands = []\n",
    "    for amplicon in amplicons:\n",
    "        commands.append(('%s/replicate-%s/%s/replicate-%s-%s' % (basedir, replicate, amplicon, replicate, amplicon), \"%s %s\" % (replicate, amplicon)))\n",
    "\n",
    "    plotfileprefix = '%s/replicate-%s/parsesummary' % (basedir, replicate)\n",
    "    commands.append(('plotfileprefix', plotfileprefix))\n",
    "    commands.append(('writefracs', 'True'))\n",
    "    commands.append(('textwritefracs', plotfileprefix))\n",
    "    commands.append(('pairedcodonplot', 'True'))\n",
    "    #convert_to_pngs.append('%s_codon_types_and_nmuts.pdf' % plotfileprefix)\n",
    "\n",
    "    RunScriptMapmuts('replicate-%s' % replicate, 'parsesummaryplots', 'mapmuts_parsesummaryplots.py', commands, False, 1)\n",
    "    ShowPDFinline('%s_codon_types_and_nmuts.pdf' % plotfileprefix, '%s/replicate-%s' % (basedir, replicate), 600)"
   ]
  },
  {
   "cell_type": "markdown",
   "metadata": {},
   "source": [
    "<a id='diffsel'></a>\n",
    "**Calculate differential selection for each mutation and each site in NP**\n",
    "\n",
    "We run ```dms_diffselection``` on MDCK-SIAT1-MxA vs MDCK-SIAT1 (MxA selection), and on MDCK-SIAT1-MxA-T103A vs MDCK-SIAT1 (control selection), for both biological replicates of the mutant virus library.\n"
   ]
  },
  {
   "cell_type": "code",
   "execution_count": 8,
   "metadata": {
    "collapsed": false
   },
   "outputs": [],
   "source": [
    "mutdiffsel_files = []   # collect all the mutdiffsel files in order to have the same y-axis scale on subsequent logo plots of differential selection\n",
    "\n",
    "# MDCK-SIAT1-MxA vs MDCK-SIAT1 (MxA selection)\n",
    "control = controls[0]\n",
    "for replicate in replicates:\n",
    "    subdir = '%s/replicate-%s' % (basedir, replicate)\n",
    "    args = ['dms_diffselection', \\\n",
    "            '--pseudocount=10', \\\n",
    "            '--mincounts=0',\\\n",
    "            '--chartype=codon_to_aa', \\\n",
    "            '%s/%s/replicate-%s-%s_codoncounts.txt' % (subdir, control, replicate, control), \\\n",
    "            '%s/%s/replicate-%s-%s_codoncounts.txt' % (subdir, selection, replicate, selection), \\\n",
    "            '%s/replicate-%s_%s_%s_' % (subdir, replicate, selection, control)]\n",
    "    mutdiffsel_files.append('%s/replicate-%s_%s_%s_mutdiffsel.txt' % (subdir, replicate, selection, control))\n",
    "    os.system(' '.join(args))\n",
    "\n",
    "# MDCK-SIAT1-MxA-T103A vs MDCK-SIAT1 (control selection)\n",
    "for replicate in replicates:\n",
    "    subdir = '%s/replicate-%s' % (basedir, replicate)\n",
    "    args = ['dms_diffselection', \\\n",
    "            '--pseudocount=10', \\\n",
    "            '--mincounts=0',\\\n",
    "            '--chartype=codon_to_aa', \\\n",
    "            '%s/%s/replicate-%s-%s_codoncounts.txt' % (subdir, controls[0], replicate, controls[0]), \\\n",
    "            '%s/%s/replicate-%s-%s_codoncounts.txt' % (subdir, controls[1], replicate, controls[1]), \\\n",
    "            '%s/replicate-%s_%s_%s_' % (subdir, replicate, controls[1], controls[0])]\n",
    "    mutdiffsel_files.append('%s/replicate-%s_%s_%s_mutdiffsel.txt' % (subdir, replicate, controls[1], controls[0]))\n",
    "    os.system(' '.join(args))"
   ]
  },
  {
   "cell_type": "markdown",
   "metadata": {},
   "source": [
    "We run ```dms_merge``` to take the average of differential selection values measured for both biological replicates. We calculate the average mutation differential selection and the average site differential selection."
   ]
  },
  {
   "cell_type": "code",
   "execution_count": 9,
   "metadata": {
    "collapsed": false
   },
   "outputs": [
    {
     "data": {
      "text/plain": [
       "512"
      ]
     },
     "execution_count": 9,
     "metadata": {},
     "output_type": "execute_result"
    }
   ],
   "source": [
    "# MDCK-SIAT1-MxA vs MDCK-SIAT1 (MxA selection) \n",
    "control = controls[0]\n",
    "meanmutfile = '%s/%s_%s_mean_mutdiffsel.txt' % (basedir, selection, control)\n",
    "meansitefile = '%s/%s_%s_mean_sitediffsel.txt' % (basedir, selection, control)\n",
    "files = ['%s/replicate-%s/replicate-%s_%s_%s_mutdiffsel.txt' % (basedir, replicate, replicate, selection, control) for replicate in replicates]\n",
    "args = ['dms_merge', \\\n",
    "        meanmutfile, \\\n",
    "        'average', files[0], files[1], \\\n",
    "        '--sitediffselfile', meansitefile]\n",
    "os.system(' '.join(args))\n",
    " \n",
    "# MDCK-SIAT1-MxA-T103A vs MDCK-SIAT1 (control selection) \n",
    "meanmutfile = '%s/%s_%s_mean_mutdiffsel.txt' % (basedir, controls[1], controls[0])\n",
    "meansitefile = '%s/%s_%s_mean_sitediffsel.txt' % (basedir, controls[1], controls[0])\n",
    "files = ['%s/replicate-%s/replicate-%s_%s_%s_mutdiffsel.txt' % (basedir, replicate, replicate, controls[1], controls[0]) for replicate in replicates]\n",
    "args = ['dms_merge', \\\n",
    "        meanmutfile, \\\n",
    "        'average', files[0], files[1], \\\n",
    "        '--sitediffselfile', meansitefile]\n",
    "os.system(' '.join(args))"
   ]
  },
  {
   "cell_type": "markdown",
   "metadata": {},
   "source": [
    "<a id='correlation'></a>\n",
    "**Correlations between site differential selections and mutation differential selections for biological replicates**"
   ]
  },
  {
   "cell_type": "code",
   "execution_count": 10,
   "metadata": {
    "collapsed": false
   },
   "outputs": [
    {
     "ename": "CalledProcessError",
     "evalue": "Command '['dms_correlate', '/fh/fast/bloom_j/grp/oashenbe/2016_NP_MxA_paper/replicate-1/replicate-1_mutvir_MxA_mutvir_MS_sitediffsel.txt', '/fh/fast/bloom_j/grp/oashenbe/2016_NP_MxA_paper/replicate-2/replicate-2_mutvir_MxA_mutvir_MS_sitediffsel.txt', '/fh/fast/bloom_j/grp/oashenbe/2016_NP_MxA_paper/notebook_figures/mutvir_MxA_mutvir_MS_sitediffsel_correlationplot', '--name1', 'replicate 1', '--name2', 'replicate 2', '--plot_title', 'site\\ndifferential selection', '--alpha=0.3', '--corr_on_plot']' returned non-zero exit status 2",
     "output_type": "error",
     "traceback": [
      "\u001b[1;31m---------------------------------------------------------------------------\u001b[0m",
      "\u001b[1;31mCalledProcessError\u001b[0m                        Traceback (most recent call last)",
      "\u001b[1;32m<ipython-input-10-2bfc2f18c075>\u001b[0m in \u001b[0;36m<module>\u001b[1;34m()\u001b[0m\n\u001b[0;32m      4\u001b[0m \u001b[0mplotfile\u001b[0m \u001b[1;33m=\u001b[0m \u001b[1;34m'%s/%s_%s_sitediffsel_correlationplot'\u001b[0m \u001b[1;33m%\u001b[0m \u001b[1;33m(\u001b[0m\u001b[0mfigdir\u001b[0m\u001b[1;33m,\u001b[0m \u001b[0mselection\u001b[0m\u001b[1;33m,\u001b[0m \u001b[0mcontrol\u001b[0m\u001b[1;33m)\u001b[0m\u001b[1;33m\u001b[0m\u001b[0m\n\u001b[0;32m      5\u001b[0m \u001b[0margs\u001b[0m \u001b[1;33m=\u001b[0m \u001b[1;33m[\u001b[0m\u001b[1;34m'dms_correlate'\u001b[0m\u001b[1;33m,\u001b[0m         \u001b[0mfiles\u001b[0m\u001b[1;33m[\u001b[0m\u001b[1;36m0\u001b[0m\u001b[1;33m]\u001b[0m\u001b[1;33m,\u001b[0m \u001b[0mfiles\u001b[0m\u001b[1;33m[\u001b[0m\u001b[1;36m1\u001b[0m\u001b[1;33m]\u001b[0m\u001b[1;33m,\u001b[0m \u001b[0mplotfile\u001b[0m\u001b[1;33m,\u001b[0m         \u001b[1;34m'--name1'\u001b[0m\u001b[1;33m,\u001b[0m \u001b[1;34m'replicate 1'\u001b[0m\u001b[1;33m,\u001b[0m \u001b[1;34m'--name2'\u001b[0m\u001b[1;33m,\u001b[0m \u001b[1;34m'replicate 2'\u001b[0m\u001b[1;33m,\u001b[0m \u001b[1;34m'--plot_title'\u001b[0m\u001b[1;33m,\u001b[0m \u001b[1;34m'site\\ndifferential selection'\u001b[0m\u001b[1;33m,\u001b[0m \u001b[1;34m'--alpha=0.3'\u001b[0m\u001b[1;33m,\u001b[0m \u001b[1;34m'--corr_on_plot'\u001b[0m\u001b[1;33m]\u001b[0m\u001b[1;33m\u001b[0m\u001b[0m\n\u001b[1;32m----> 6\u001b[1;33m \u001b[0msubprocess\u001b[0m\u001b[1;33m.\u001b[0m\u001b[0mcheck_call\u001b[0m\u001b[1;33m(\u001b[0m\u001b[0margs\u001b[0m\u001b[1;33m)\u001b[0m\u001b[1;33m\u001b[0m\u001b[0m\n\u001b[0m\u001b[0;32m      7\u001b[0m \u001b[1;31m#print 'selection vs control ', os.path.basename(files[0]), os.path.basename(files[1]), os.path.basename(plotfile)\u001b[0m\u001b[1;33m\u001b[0m\u001b[1;33m\u001b[0m\u001b[0m\n\u001b[0;32m      8\u001b[0m \u001b[0mShowPDFinline\u001b[0m\u001b[1;33m(\u001b[0m\u001b[0mplotfile\u001b[0m\u001b[1;33m+\u001b[0m\u001b[1;34m'.pdf'\u001b[0m\u001b[1;33m,\u001b[0m \u001b[0mfigdir\u001b[0m\u001b[1;33m,\u001b[0m \u001b[1;36m250\u001b[0m\u001b[1;33m)\u001b[0m\u001b[1;33m\u001b[0m\u001b[0m\n",
      "\u001b[1;32m/usr/lib/python2.7/subprocess.pyc\u001b[0m in \u001b[0;36mcheck_call\u001b[1;34m(*popenargs, **kwargs)\u001b[0m\n\u001b[0;32m    538\u001b[0m         \u001b[1;32mif\u001b[0m \u001b[0mcmd\u001b[0m \u001b[1;32mis\u001b[0m \u001b[0mNone\u001b[0m\u001b[1;33m:\u001b[0m\u001b[1;33m\u001b[0m\u001b[0m\n\u001b[0;32m    539\u001b[0m             \u001b[0mcmd\u001b[0m \u001b[1;33m=\u001b[0m \u001b[0mpopenargs\u001b[0m\u001b[1;33m[\u001b[0m\u001b[1;36m0\u001b[0m\u001b[1;33m]\u001b[0m\u001b[1;33m\u001b[0m\u001b[0m\n\u001b[1;32m--> 540\u001b[1;33m         \u001b[1;32mraise\u001b[0m \u001b[0mCalledProcessError\u001b[0m\u001b[1;33m(\u001b[0m\u001b[0mretcode\u001b[0m\u001b[1;33m,\u001b[0m \u001b[0mcmd\u001b[0m\u001b[1;33m)\u001b[0m\u001b[1;33m\u001b[0m\u001b[0m\n\u001b[0m\u001b[0;32m    541\u001b[0m     \u001b[1;32mreturn\u001b[0m \u001b[1;36m0\u001b[0m\u001b[1;33m\u001b[0m\u001b[0m\n\u001b[0;32m    542\u001b[0m \u001b[1;33m\u001b[0m\u001b[0m\n",
      "\u001b[1;31mCalledProcessError\u001b[0m: Command '['dms_correlate', '/fh/fast/bloom_j/grp/oashenbe/2016_NP_MxA_paper/replicate-1/replicate-1_mutvir_MxA_mutvir_MS_sitediffsel.txt', '/fh/fast/bloom_j/grp/oashenbe/2016_NP_MxA_paper/replicate-2/replicate-2_mutvir_MxA_mutvir_MS_sitediffsel.txt', '/fh/fast/bloom_j/grp/oashenbe/2016_NP_MxA_paper/notebook_figures/mutvir_MxA_mutvir_MS_sitediffsel_correlationplot', '--name1', 'replicate 1', '--name2', 'replicate 2', '--plot_title', 'site\\ndifferential selection', '--alpha=0.3', '--corr_on_plot']' returned non-zero exit status 2"
     ]
    }
   ],
   "source": [
    "# site differential selection of MDCK-SIAT1-MxA vs MDCK-SIAT1 (MxA selection) \n",
    "control = controls[0]\n",
    "files = ['%s/replicate-%s/replicate-%s_%s_%s_sitediffsel.txt' % (basedir, replicate, replicate, selection, control) for replicate in replicates]\n",
    "plotfile = '%s/%s_%s_sitediffsel_correlationplot' % (figdir, selection, control)\n",
    "args = ['dms_correlate', \\\n",
    "        files[0], files[1], plotfile, \\\n",
    "        '--name1', 'replicate 1', '--name2', 'replicate 2', '--plot_title', 'site\\ndifferential selection', '--alpha=0.3', '--corr_on_plot']\n",
    "subprocess.check_call(args)    \n",
    "#print 'selection vs control ', os.path.basename(files[0]), os.path.basename(files[1]), os.path.basename(plotfile)\n",
    "ShowPDFinline(plotfile+'.pdf', figdir, 250)\n",
    "\n",
    "# mutation differential selection of MDCK-SIAT1-MxA vs MDCK-SIAT1 (MxA selection) \n",
    "files = ['%s/replicate-%s/replicate-%s_%s_%s_mutdiffsel.txt' % (basedir, replicate, replicate, selection, control) for replicate in replicates]\n",
    "plotfile = '%s/%s_%s_mutdiffsel_correlationplot' % (figdir, selection, control)\n",
    "args = ['dms_correlate', \\\n",
    "        files[0], files[1], plotfile, \\\n",
    "        '--name1', 'replicate 1', '--name2', 'replicate 2', '--plot_title', 'mutation\\ndifferential selection', '--corr_on_plot']\n",
    "subprocess.check_call(args)\n",
    "#print 'selection vs control ', os.path.basename(files[0]), os.path.basename(files[1]), os.path.basename(plotfile)\n",
    "ShowPDFinline(plotfile+'.pdf', figdir, 250)"
   ]
  },
  {
   "cell_type": "markdown",
   "metadata": {},
   "source": [
    "<a id='distribution'></a>\n",
    "**Distributions of site differential selections and mutation differential selections**\n",
    "\n",
    "We show the distributions for site differential selection and mutation differential selections for MxA selection and control selection. These values are shown for both biological replicates. In addition we take the mean of these values across the two biological replicates. With the green dots, we mark the NP mutations at sites 100, 283, and 313 characterized by Mänz, Benjamin, et al. PLoS Pathog 9.3 (2013): e1003279."
   ]
  },
  {
   "cell_type": "code",
   "execution_count": null,
   "metadata": {
    "collapsed": false,
    "scrolled": false
   },
   "outputs": [],
   "source": [
    "def randjitter(x):\n",
    "    '''This function is used to help visualize the location of NP mutations at sites 100, 283, and 313,\n",
    "    which would otherwise overlap in the control selection for mutation differential selection.'''\n",
    "    jitter = np.array([-.05, 0, .05])\n",
    "    np.random.shuffle(jitter)\n",
    "    return x + jitter\n",
    "\n",
    "plt.close('all')\n",
    "# List of sitediffsel and mutdiffsel files to display distributions for\n",
    "sitediffsel_files = ['%s/replicate-%s/replicate-%s_mutvir_MxA_mutvir_MS_sitediffsel.txt' % (basedir, replicates[0], replicates[0]), \\\n",
    "                    '%s/replicate-%s/replicate-%s_mutvir_MxAneg_mutvir_MS_sitediffsel.txt' % (basedir, replicates[0], replicates[0]), \\\n",
    "                    '%s/replicate-%s/replicate-%s_mutvir_MxA_mutvir_MS_sitediffsel.txt' % (basedir, replicates[1], replicates[1]), \\\n",
    "                    '%s/replicate-%s/replicate-%s_mutvir_MxAneg_mutvir_MS_sitediffsel.txt' % (basedir, replicates[1], replicates[1]), \\\n",
    "                    '%s/mutvir_MxA_mutvir_MS_mean_sitediffsel.txt' % basedir, \\\n",
    "                    '%s/mutvir_MxAneg_mutvir_MS_mean_sitediffsel.txt' % basedir]\n",
    "\n",
    "mutdiffsel_files = ['%s/replicate-%s/replicate-%s_mutvir_MxA_mutvir_MS_mutdiffsel.txt' % (basedir, replicates[0], replicates[0]), \\\n",
    "                    '%s/replicate-%s/replicate-%s_mutvir_MxAneg_mutvir_MS_mutdiffsel.txt' % (basedir, replicates[0], replicates[0]), \\\n",
    "                    '%s/replicate-%s/replicate-%s_mutvir_MxA_mutvir_MS_mutdiffsel.txt' % (basedir, replicates[1], replicates[1]), \\\n",
    "                    '%s/replicate-%s/replicate-%s_mutvir_MxAneg_mutvir_MS_mutdiffsel.txt' % (basedir, replicates[1], replicates[1]), \\\n",
    "                    '%s/mutvir_MxA_mutvir_MS_mean_mutdiffsel.txt' % basedir, \\\n",
    "                    '%s/mutvir_MxAneg_mutvir_MS_mean_mutdiffsel.txt' % basedir]\n",
    "\n",
    "keys = ('selection 1', 'control 1', 'selection 2', 'control 2', 'selection', 'control')\n",
    "xlabels = ('MxA', 'control')*3\n",
    "axespos = np.arange(6)\n",
    "pos = [1, 1.6, 2.2, 2.8]\n",
    "\n",
    "# Read mutsiffsel and sitediffsel files\n",
    "mutdiffsel = {}\n",
    "sitediffsel = {}\n",
    "for (mutdiffsel_file, sitediffsel_file, key) in zip(mutdiffsel_files, sitediffsel_files, keys):\n",
    "    mutdiffsel[key] = pd.read_csv(mutdiffsel_file)\n",
    "    sitediffsel[key] = pd.read_csv(sitediffsel_file)\n",
    "\n",
    "##################\n",
    "# Site differential selection plots \n",
    "##################\n",
    "plt.close('all')\n",
    "fig, axes = plt.subplots(nrows=1, ncols=2, figsize=(13,6), gridspec_kw = {'width_ratios':[2, 1]})\n",
    "fig.subplots_adjust(wspace=0.3)   # increase space between both subplots\n",
    "\n",
    "plots = [sitediffsel[key]['abs_diffsel'] for key in keys]\n",
    "\n",
    "# Axis properties\n",
    "for ax in axes:\n",
    "    spineOffset = {'left': 0, 'bottom': 0}    \n",
    "    [spine.set_position(('outward',spineOffset[loc])) if loc in ['left','bottom'] else spine.set_color('none') for loc, spine in ax.spines.items() ] \n",
    "    ax.xaxis.set(ticks_position = 'none')\n",
    "    ax.yaxis.set(ticks_position = 'left')\n",
    "    ax.tick_params(axis='y', labelsize=25)\n",
    "    ax.set_ylim([0,21])         # manually set by range in data\n",
    "axes[0].set_ylabel('site\\ndifferential selection', fontsize=30) \n",
    "\n",
    "# Individual replicates\n",
    "violin_parts = axes[0].violinplot(plots[:4], pos, points=100, widths=0.4, showmeans=False, showmedians=True, showextrema=True, bw_method=\"scott\")\n",
    "violin_parts['cmedians'].set_color('black'); violin_parts['cmins'].set_color('black'); violin_parts['cmaxes'].set_color('black'); violin_parts['cbars'].set_color('black')\n",
    "axes[0].set_xticks(pos) \n",
    "axes[0].set_xlim([pos[0]-.3,pos[-1]+.3])\n",
    "axes[0].set_xticklabels(xlabels[:4], fontsize=24, rotation=0)\n",
    "\n",
    "# Mean of replicates\n",
    "violin_parts = axes[1].violinplot(plots[4:], pos[:2], points=100, widths=0.4, showmeans=False, showmedians=True, showextrema=True, bw_method=\"scott\")\n",
    "violin_parts['cmedians'].set_color('black'); violin_parts['cmins'].set_color('black'); violin_parts['cmaxes'].set_color('black'); violin_parts['cbars'].set_color('black')\n",
    "axes[1].set_xticks(pos[:2]) \n",
    "axes[1].set_xlim([pos[0]-.3,pos[1]+.3])\n",
    "axes[1].set_xticklabels(xlabels[4:], fontsize=24, rotation=0)\n",
    "\n",
    "# Literature mutations mapped onto mean sitediffsel distributions for selection vs control and for control vs control\n",
    "diffsel = sitediffsel['selection']\n",
    "axes[1].scatter([pos[0]]*len(lit), [float(diffsel.loc[diffsel['site']==int(site)]['abs_diffsel']) for (site, aa_resist, aa_sensitive) in lit], s=50, color='Green')\n",
    "diffsel = sitediffsel['control']\n",
    "# a random jitter is applied to the x-values to help display the NP mutations at sites 100,283,313\n",
    "axes[1].scatter(randjitter([pos[1]]*len(lit)), [float(diffsel.loc[diffsel['site']==int(site)]['abs_diffsel']) for (site, aa_resist, aa_sensitive) in lit], s=50, color='Green')\n",
    "\n",
    "# Add space to bottom of plot in order to have space for text label below the x-axis\n",
    "fig.subplots_adjust(bottom=0.2)\n",
    "ypos = axes[0].get_ylim()[0] - 0.16*(axes[0].get_ylim()[1] - axes[0].get_ylim()[0])\n",
    "axes[0].text((pos[0]+pos[1])/2, ypos, 'replicate 1', horizontalalignment='center', fontsize=30)\n",
    "axes[0].text((pos[2]+pos[3])/2, ypos, 'replicate 2', horizontalalignment='center', fontsize=30)\n",
    "ypos = axes[1].get_ylim()[0] - 0.16*(axes[1].get_ylim()[1] - axes[1].get_ylim()[0])\n",
    "axes[1].text((pos[0]+pos[1])/2, ypos, 'mean', horizontalalignment='center', fontsize=30)\n",
    "\n",
    "plotfile = '%s/distribution_sitediffsel.pdf' % figdir\n",
    "plt.savefig(plotfile)\n",
    "ShowPDFinline(plotfile, figdir, 800)\n",
    "\n",
    "##################\n",
    "# Mutation differential selection plots \n",
    "##################\n",
    "fig, axes = plt.subplots(nrows=1, ncols=2, figsize=(13,6), gridspec_kw = {'width_ratios':[2, 1]})\n",
    "fig.subplots_adjust(wspace=0.3)   # increase space between both subplots\n",
    "\n",
    "# Omit NaN values when making violin plots\n",
    "plots = [[x for x in mutdiffsel[key]['diffsel'] if ~np.isnan(x)] for key in keys]   \n",
    "\n",
    "# Axis properties\n",
    "for ax in axes:\n",
    "    spineOffset = {'left': 0, 'bottom': 0}    \n",
    "    [spine.set_position(('outward',spineOffset[loc])) if loc in ['left','bottom'] else spine.set_color('none') for loc, spine in ax.spines.items() ] \n",
    "    ax.xaxis.set(ticks_position = 'none')\n",
    "    ax.yaxis.set(ticks_position = 'left')\n",
    "    ax.tick_params(axis='y', labelsize=25)\n",
    "axes[0].set_ylim([-8,4])         # manually set by range in data\n",
    "axes[1].set_ylim([-4,2])         # manually set by range in data\n",
    "axes[0].set_ylabel('mutation\\ndifferential selection', fontsize=30) \n",
    "\n",
    "# Individual replicates\n",
    "violin_parts = axes[0].violinplot(plots[:4], pos, points=100, widths=0.4, showmeans=False, showmedians=True, showextrema=True, bw_method=\"scott\")\n",
    "violin_parts['cmedians'].set_color('black'); violin_parts['cmins'].set_color('black'); violin_parts['cmaxes'].set_color('black'); violin_parts['cbars'].set_color('black')\n",
    "axes[0].set_xticks(pos) \n",
    "axes[0].set_xlim([pos[0]-.3,pos[-1]+.3])\n",
    "axes[0].set_xticklabels(xlabels[:4], fontsize=24, rotation=0)\n",
    "\n",
    "# Mean of replicates\n",
    "violin_parts = axes[1].violinplot(plots[4:], pos[:2], points=100, widths=0.4, showmeans=False, showmedians=True, showextrema=True, bw_method=\"scott\")\n",
    "violin_parts['cmedians'].set_color('black'); violin_parts['cmins'].set_color('black'); violin_parts['cmaxes'].set_color('black'); violin_parts['cbars'].set_color('black')\n",
    "axes[1].set_xticks(pos[:2]) \n",
    "axes[1].set_xlim([pos[0]-.3,pos[1]+.3])\n",
    "axes[1].set_xticklabels(xlabels[4:], fontsize=24, rotation=0)\n",
    "\n",
    "# Literature mutations mapped onto mean mutdiffsel distributions for selection vs control and for control vs control\n",
    "diffsel = mutdiffsel['selection']\n",
    "axes[1].scatter([pos[0]]*len(lit), [float(diffsel[(diffsel['site']==int(site)) & (diffsel['mut']==aa_sensitive)]['diffsel']) for (site, aa_resist, aa_sensitive) in lit], s=50, color='Green')\n",
    "diffsel = mutdiffsel['control']\n",
    "axes[1].scatter([pos[1]]*len(lit), [float(diffsel[(diffsel['site']==int(site)) & (diffsel['mut']==aa_sensitive)]['diffsel']) for (site, aa_resist, aa_sensitive) in lit], s=50, color='Green')\n",
    "\n",
    "# Add space to bottom of plot in order to have space for text label below the x-axis\n",
    "fig.subplots_adjust(bottom=0.2)\n",
    "ypos = axes[0].get_ylim()[0] - 0.16*(axes[0].get_ylim()[1] - axes[0].get_ylim()[0])\n",
    "axes[0].text((pos[0]+pos[1])/2, ypos, 'replicate 1', horizontalalignment='center', fontsize=30)\n",
    "axes[0].text((pos[2]+pos[3])/2, ypos, 'replicate 2', horizontalalignment='center', fontsize=30)\n",
    "ypos = axes[1].get_ylim()[0] - 0.16*(axes[1].get_ylim()[1] - axes[1].get_ylim()[0])\n",
    "axes[1].text((pos[0]+pos[1])/2, ypos, 'mean', horizontalalignment='center', fontsize=30)\n",
    "\n",
    "plotfile = '%s/distribution_mutdiffsel.pdf' % figdir\n",
    "plt.savefig(plotfile)\n",
    "ShowPDFinline(plotfile, figdir, 800)"
   ]
  },
  {
   "cell_type": "markdown",
   "metadata": {},
   "source": [
    "<a id='logoplot'></a>\n",
    "**Logo plot of mutation differential selections at each NP site**\n",
    "\n",
    "Logo plots are made for differential preferences in the MxA selection condition. Plots are made for both the individual biological replicates and the mean of differential preferences across the replicates."
   ]
  },
  {
   "cell_type": "code",
   "execution_count": null,
   "metadata": {
    "collapsed": false
   },
   "outputs": [],
   "source": [
    "# MDCK-SIAT1-MxA vs MDCK-SIAT1 (MxA selection) individual replicates\n",
    "control = controls[0]\n",
    "for replicate in replicates:\n",
    "    subdir = '%s/replicate-%s' % (basedir, replicate)\n",
    "    logofile = '%s/replicate-%s_%s_%s_diffsel_logoplot.pdf' % (figdir, replicate, selection, control)\n",
    "    args = ['dms_logoplot', \\\n",
    "            '%s/replicate-%s_%s_%s_mutdiffsel.txt' % (subdir, replicate, selection, control), \\\n",
    "            logofile, \\\n",
    "             '--nperline=115', \\\n",
    "             '--diffselheight %s' % (' '.join(mutdiffsel_files))]\n",
    "    os.system(' '.join(args))\n",
    "\n",
    "# mean selection vs control\n",
    "logofile = '%s/%s_%s_mean_diffsel_logoplot.pdf' % (figdir, selection, control)\n",
    "args = ['dms_logoplot', \\\n",
    "        '%s/%s_%s_mean_mutdiffsel.txt' % (basedir, selection, control), \\\n",
    "        logofile, \\\n",
    "         '--nperline=56', \\\n",
    "         '--diffselheight %s' % (' '.join(mutdiffsel_files))]\n",
    "os.system(' '.join(args))\n",
    "ShowPDFinline(logofile, figdir, 800)"
   ]
  },
  {
   "cell_type": "markdown",
   "metadata": {},
   "source": [
    "<a id='topsites'></a>\n",
    "**NP sites or mutations with the greatest differential selection**"
   ]
  },
  {
   "cell_type": "markdown",
   "metadata": {
    "collapsed": true
   },
   "source": [
    "**Nucleoprotein sites with greatest mean site differential selection**\n",
    "\n",
    "Make a logo plot showing the sites with the greatest site differential selection. We look at those sites whose site differential selection in the MxA selection is greater than that in the control selection.\n",
    "\n",
    "For displaying the logos at each site, a dummy site with differential selection values of 0 is placed between each of the sites of interest. This helps space out the data at each site."
   ]
  },
  {
   "cell_type": "code",
   "execution_count": null,
   "metadata": {
    "collapsed": false
   },
   "outputs": [],
   "source": [
    "# Find sites with greatest site differential selection\n",
    "meanfile = '%s/mutvir_MxA_mutvir_MS_mean_sitediffsel.txt' % basedir\n",
    "controlmeanfile = '%s/mutvir_MxAneg_mutvir_MS_mean_sitediffsel.txt' % basedir\n",
    "diffsel = pd.read_csv(meanfile)\n",
    "controldiffsel = pd.read_csv(controlmeanfile)\n",
    "\n",
    "# Find the maximum abs_diffsel in control selection, and use that as a cutoff when looking at abs_diffsel values in MxA selection\n",
    "max_controldiffsel = controldiffsel['abs_diffsel'][0]   \n",
    "numtop = len(diffsel[diffsel.abs_diffsel>max_controldiffsel]) # The number of abs_diffsel values greater than a cutoff, the diffsel dataframe is ordered by abs_diffsel magnitude\n",
    "greatest_sitediffsel = list(diffsel['site'][0:numtop])\n",
    "print 'The maximum control selection sitediffsel is at site %s with value %.2f, %s sites in MxA selection are greater than this' % (controldiffsel['site'][0], max_controldiffsel, numtop)\n",
    "print ' '.join([str(i) for i in greatest_sitediffsel])\n",
    "\n",
    "# Make a dataframe that only has the sites with the greatest site differential selection, and interspersed with 'dummy' sites\n",
    "# that do not contain actual differential selection data, this allows for spacing when displaying the logo plot\n",
    "mutdiffselfile = '%s/mutvir_MxA_mutvir_MS_mean_mutdiffsel.txt' % basedir\n",
    "mutdiffsel = pd.read_csv(mutdiffselfile)\n",
    "subset = pd.DataFrame(columns=mutdiffsel.columns) \n",
    "dummysite = 500  # site that will be spacer between sites of interest, numbering starts past NP numbering which ends at 498\n",
    "sites = []\n",
    "for site in greatest_sitediffsel:\n",
    "    for row in mutdiffsel[mutdiffsel.site==site].itertuples(): # iterate over all rows in dataframe for this specific site: tuple(index, coulmn values)\n",
    "        subset = subset.append(pd.DataFrame([row[1:]], columns=mutdiffsel.columns))\n",
    "    for aa in dms_tools.aminoacids:\n",
    "        subset = subset.append(pd.DataFrame([[dummysite, 'A', aa, 0.0]], columns=mutdiffsel.columns))   # not actual data\n",
    "    sites.extend([int(site), dummysite])\n",
    "    dummysite += 1\n",
    "subset['site'] = subset['site'].apply(lambda x: int(x))\n",
    "subset.fillna(0.0, inplace=True) # set diffsel to zero for any missing (NaN) values\n",
    "\n",
    "# Dictionary where key is site, and value is another dictionary \n",
    "# That dictionary is keyed by mutation, and value is differential selection for mutation at that site.\n",
    "# This gets passed to the dms_tools.weblogo.LogoPlot function\n",
    "data = {}  \n",
    "logofile = '%s/greatestsitediffsel_logoplot.pdf' % figdir\n",
    "for r in sites:\n",
    "    data[str(r)] = subset.loc[subset['site'] == r].set_index('mut')['diffsel'].to_dict()\n",
    "sites = [str(r) for r in sites] \n",
    "dms_tools.weblogo.LogoPlot(sites, 'diffsel', data, logofile, 90, numberevery=2, allowunsorted=True, ylimits=(-20, 5), relativestackheight=3)\n",
    "ShowPDFinline(logofile, figdir, 900)"
   ]
  },
  {
   "cell_type": "markdown",
   "metadata": {},
   "source": [
    "**Nucleoprotein mutations with greatest mean mutation differential selection**\n",
    "\n",
    "We show the NP mutations whose mutation differential selection in the MxA selection is outside the range of the mutation differential selection in the control selection. This means the mutation differential selection in the MxA selection is either greater than the maximum in the control selection or less than the minimum in the control selection."
   ]
  },
  {
   "cell_type": "code",
   "execution_count": null,
   "metadata": {
    "collapsed": false
   },
   "outputs": [],
   "source": [
    "# Find the maximum and minimum mutation differential selection in the control selection.\n",
    "# Use these as cutoffs when looking at mutation differential selection in MxA selection.\n",
    "control = controls[0]\n",
    "meanfile = '%s/%s_%s_mean_mutdiffsel.txt' % (basedir, selection, control)\n",
    "controlmeanfile = '%s/mutvir_MxAneg_mutvir_MS_mean_mutdiffsel.txt' % basedir\n",
    "diffsel = pd.read_csv(meanfile)\n",
    "controldiffsel = pd.read_csv(controlmeanfile)\n",
    "\n",
    "max_controldiffsel = controldiffsel['diffsel'][0]\n",
    "min_controldiffsel = min(controldiffsel['diffsel'])\n",
    "diffsel_above_control = diffsel[(diffsel['diffsel']>max_controldiffsel) | (diffsel['diffsel']<min_controldiffsel)]\n",
    "diffsel_above_control['abs_diffsel'] = np.absolute(diffsel_above_control['diffsel'])\n",
    "diffsel_above_control = diffsel_above_control.sort_values('abs_diffsel', ascending=False)\n",
    "print 'The maximum and minimum control selection mutdiffsel are %.2f and %.2f' % (max_controldiffsel, min_controldiffsel)\n",
    "print ' '.join([str(i) for i in diffsel_above_control['site']])\n",
    "\n",
    "fig, ax = plt.subplots(tight_layout=True, figsize=(12,6))\n",
    "width = 0.35\n",
    "ind = np.arange(len(diffsel_above_control))*2*width\n",
    "rects = ax.bar(ind, diffsel_above_control['diffsel'], .3, color='k')  # mutation differential selection\n",
    "plt.axhline(linewidth=1, color='k')\n",
    "\n",
    "# Axis properties\n",
    "spineOffset = {'left': 0, 'bottom': 0}    \n",
    "[spine.set_position(('outward',spineOffset[loc])) if loc in ['left','bottom'] else spine.set_color('none') for loc, spine in ax.spines.items() ] \n",
    "ax.xaxis.set(ticks_position = 'bottom')\n",
    "ax.yaxis.set(ticks_position = 'left')\n",
    "\n",
    "# Set labels and ticks\n",
    "xlabels = [''.join(map(str, label)) for label in diffsel_above_control[['wt','site','mut']].values]  # make xlabels from 3 columns (wt,site,mut) of dataframe\n",
    "ax.set_xticklabels(xlabels, fontsize=20 )\n",
    "ax.set_xlabel('NP mutation', fontsize=30)\n",
    "ax.set_xticks(ind+width/2)\n",
    "plt.xticks(rotation=90)\n",
    "ax.set_xlim([ind[0]-width/2, ind[-1]+3*width/2])\n",
    "ax.yaxis.set_tick_params(labelsize=20)\n",
    "ax.set_ylabel('mutation\\ndifferential selection', fontsize=30)\n",
    "\n",
    "plotfile = '%s/greatestmutdiffsel.pdf' % figdir\n",
    "plt.savefig(plotfile)\n",
    "ShowPDFinline(plotfile, figdir, 800)"
   ]
  },
  {
   "cell_type": "markdown",
   "metadata": {},
   "source": [
    "<a id='site51'></a>\n",
    "**Mutation differential selections at site 51 for both biological replicates**"
   ]
  },
  {
   "cell_type": "code",
   "execution_count": null,
   "metadata": {
    "collapsed": false
   },
   "outputs": [],
   "source": [
    "# Correlation between replicate measurements of mutation differential selection values at site 51\n",
    "control = controls[0]\n",
    "files = ['%s/replicate-%s/replicate-%s_%s_%s_mutdiffsel.txt' % (basedir, replicate, replicate, selection, control) for replicate in replicates]\n",
    "plotfile = '%s/site51_%s_%s_mutdiffsel_correlationplot.pdf' % (figdir, selection, control)\n",
    "\n",
    "diffsel1 = pd.read_csv(files[0])\n",
    "diffsel2 = pd.read_csv(files[1])\n",
    "diffsel_reps = pd.merge(diffsel1, diffsel2, on=['site', 'wt', 'mut'])\n",
    "xvalues = diffsel_reps[(diffsel_reps.site == 51)]['diffsel_x']\n",
    "yvalues = diffsel_reps[(diffsel_reps.site == 51)]['diffsel_y']\n",
    "new_xvalues, new_yvalues = zip(*[(x,y) for x,y in zip(xvalues, yvalues) if not math.isnan(x) and  not math.isnan(y)])  # remove NaN values when calculating correlation\n",
    "\n",
    "plt.close('all')\n",
    "fig, ax = plt.subplots(tight_layout=True, figsize=(6,6))\n",
    "ax.scatter(new_xvalues, new_yvalues, color='k', s=140)\n",
    "\n",
    "# Axis properties\n",
    "spineOffset = {'left': 0, 'bottom': 0}    \n",
    "[spine.set_position(('outward',spineOffset[loc])) if loc in ['left','bottom'] else spine.set_color('none') for loc, spine in ax.spines.items() ] \n",
    "ax.xaxis.set(ticks_position = 'bottom')\n",
    "ax.yaxis.set(ticks_position = 'left')\n",
    "\n",
    "# Set labels and ticks\n",
    "ax.set_xlabel('replicate 1', fontsize=30)\n",
    "ax.xaxis.set_tick_params(labelsize=30)\n",
    "ax.set_xticks([-2, -1, 0])\n",
    "ax.set_xlim([-2.9, 0.5])\n",
    "\n",
    "ax.set_ylabel('replicate 2', fontsize=30)\n",
    "ax.yaxis.set_tick_params(labelsize=30)\n",
    "ax.set_yticks([-2, -1, 0])\n",
    "ax.set_ylim([-2.9, 0.5])\n",
    "\n",
    "(r, p) = scipy.stats.pearsonr(new_xvalues, new_yvalues)\n",
    "text = '$R=%.2f$\\n$P=%.4f$' % (r, p)\n",
    "ax.text(0.05, 0.96, text, horizontalalignment='left', verticalalignment='top', transform=ax.transAxes, size=30)\n",
    "fig.savefig(plotfile)\n",
    "ShowPDFinline(plotfile, figdir, 300)"
   ]
  }
 ],
 "metadata": {
  "kernelspec": {
   "display_name": "Python 2",
   "language": "python",
   "name": "python2"
  },
  "language_info": {
   "codemirror_mode": {
    "name": "ipython",
    "version": 2
   },
   "file_extension": ".py",
   "mimetype": "text/x-python",
   "name": "python",
   "nbconvert_exporter": "python",
   "pygments_lexer": "ipython2",
   "version": "2.7.6"
  }
 },
 "nbformat": 4,
 "nbformat_minor": 0
}
